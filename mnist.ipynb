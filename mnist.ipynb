{
  "nbformat": 4,
  "nbformat_minor": 0,
  "metadata": {
    "colab": {
      "name": "mnist.ipynb",
      "provenance": [],
      "collapsed_sections": [],
      "include_colab_link": true
    },
    "kernelspec": {
      "name": "python3",
      "display_name": "Python 3"
    },
    "accelerator": "GPU"
  },
  "cells": [
    {
      "cell_type": "markdown",
      "metadata": {
        "id": "view-in-github",
        "colab_type": "text"
      },
      "source": [
        "<a href=\"https://colab.research.google.com/github/gchomatas/MachineLearning/blob/master/mnist.ipynb\" target=\"_parent\"><img src=\"https://colab.research.google.com/assets/colab-badge.svg\" alt=\"Open In Colab\"/></a>"
      ]
    },
    {
      "cell_type": "markdown",
      "metadata": {
        "id": "pMjtWLnWVYWK",
        "colab_type": "text"
      },
      "source": [
        "# Uninstall tensorflow 1.x and install 2.0"
      ]
    },
    {
      "cell_type": "code",
      "metadata": {
        "id": "98RMsIu4UnSG",
        "colab_type": "code",
        "colab": {}
      },
      "source": [
        "#!pip uninstall tensorflow"
      ],
      "execution_count": 0,
      "outputs": []
    },
    {
      "cell_type": "code",
      "metadata": {
        "id": "_rb29vGLU0Kp",
        "colab_type": "code",
        "colab": {}
      },
      "source": [
        "#!pip install tensorflow-gpu==2.0.0"
      ],
      "execution_count": 0,
      "outputs": []
    },
    {
      "cell_type": "markdown",
      "metadata": {
        "id": "BDM0FPySPUp_",
        "colab_type": "text"
      },
      "source": [
        "# Import tensorflow and check if we are running with **GPU support**"
      ]
    },
    {
      "cell_type": "code",
      "metadata": {
        "id": "c2t91Vof-TCM",
        "colab_type": "code",
        "colab": {}
      },
      "source": [
        "import tensorflow as tf\n",
        "\n",
        "print(tf.__version__)\n",
        "\n",
        "device_name = tf.test.gpu_device_name()\n",
        "print(\"GPU is available: {}\".format(tf.test.is_gpu_available()))\n",
        "\n",
        "print('Device name: {}'.format(device_name))"
      ],
      "execution_count": 0,
      "outputs": []
    },
    {
      "cell_type": "markdown",
      "metadata": {
        "id": "OZiLuI4mQC99",
        "colab_type": "text"
      },
      "source": [
        "# Import keras and load mnist dataset"
      ]
    },
    {
      "cell_type": "code",
      "metadata": {
        "id": "hfxDjGE1PFXh",
        "colab_type": "code",
        "colab": {}
      },
      "source": [
        "from tensorflow import keras\n",
        "from tensorflow.keras.datasets import mnist\n",
        "\n",
        "(tr_img, tr_labels), (test_img, test_labels) = mnist.load_data()"
      ],
      "execution_count": 0,
      "outputs": []
    },
    {
      "cell_type": "markdown",
      "metadata": {
        "id": "T8va0DqLQPFa",
        "colab_type": "text"
      },
      "source": [
        "# Check imported arrays shape"
      ]
    },
    {
      "cell_type": "code",
      "metadata": {
        "id": "b9CIQQF7_U5N",
        "colab_type": "code",
        "outputId": "af6b06ab-c3ba-456c-9d29-ae8f82f27c51",
        "colab": {
          "base_uri": "https://localhost:8080/",
          "height": 34
        }
      },
      "source": [
        "tr_img.shape"
      ],
      "execution_count": 0,
      "outputs": [
        {
          "output_type": "execute_result",
          "data": {
            "text/plain": [
              "(60000, 28, 28)"
            ]
          },
          "metadata": {
            "tags": []
          },
          "execution_count": 26
        }
      ]
    },
    {
      "cell_type": "code",
      "metadata": {
        "id": "RUUBojru_bJU",
        "colab_type": "code",
        "outputId": "18d3d84a-2520-4d2f-b39c-92973c9a3efa",
        "colab": {
          "base_uri": "https://localhost:8080/",
          "height": 34
        }
      },
      "source": [
        "tr_labels.shape"
      ],
      "execution_count": 0,
      "outputs": [
        {
          "output_type": "execute_result",
          "data": {
            "text/plain": [
              "(60000,)"
            ]
          },
          "metadata": {
            "tags": []
          },
          "execution_count": 27
        }
      ]
    },
    {
      "cell_type": "markdown",
      "metadata": {
        "id": "46CO6k-4QX0A",
        "colab_type": "text"
      },
      "source": [
        "# Create Sequential model and add two fully connected layers\n",
        "The first layer should provide the input vector shape, then the shape of inner layers is inferred."
      ]
    },
    {
      "cell_type": "code",
      "metadata": {
        "id": "55lp_Y4C_fTD",
        "colab_type": "code",
        "colab": {}
      },
      "source": [
        "from tensorflow.keras import layers\n",
        "\n",
        "model = keras.Sequential()\n",
        "model.add(layers.Dense(512, activation='relu', input_shape=(28 * 28,)))\n",
        "model.add(layers.Dense(10, activation='softmax'))"
      ],
      "execution_count": 0,
      "outputs": []
    },
    {
      "cell_type": "code",
      "metadata": {
        "id": "mgU_D841CK-S",
        "colab_type": "code",
        "colab": {}
      },
      "source": [
        "model.compile(optimizer='rmsprop', loss='categorical_crossentropy', metrics=['accuracy'])"
      ],
      "execution_count": 0,
      "outputs": []
    },
    {
      "cell_type": "code",
      "metadata": {
        "id": "dw8SliUzDpPl",
        "colab_type": "code",
        "colab": {}
      },
      "source": [
        "tr_img = tr_img.reshape(60000, 28 * 28)\n",
        "test_img = test_img.reshape(10000, 28 * 28)\n",
        "tr_img = tr_img.astype('float32') / 255\n",
        "test_img = test_img.astype('float32') / 255"
      ],
      "execution_count": 0,
      "outputs": []
    },
    {
      "cell_type": "code",
      "metadata": {
        "id": "YGuMGmvBEty8",
        "colab_type": "code",
        "colab": {}
      },
      "source": [
        "from tensorflow.keras.utils import to_categorical\n",
        "\n",
        "tr_labels = to_categorical(tr_labels)\n",
        "test_labels = to_categorical(test_labels)"
      ],
      "execution_count": 0,
      "outputs": []
    },
    {
      "cell_type": "code",
      "metadata": {
        "id": "LCQy29TgGcQr",
        "colab_type": "code",
        "colab": {}
      },
      "source": [
        "model.fit(tr_img, tr_labels, epochs=5, batch_size=128)"
      ],
      "execution_count": 0,
      "outputs": []
    },
    {
      "cell_type": "code",
      "metadata": {
        "id": "lMJnanUbHgi3",
        "colab_type": "code",
        "colab": {}
      },
      "source": [
        "test_loss, test_accuracy = model.evaluate(test_img, test_labels)"
      ],
      "execution_count": 0,
      "outputs": []
    },
    {
      "cell_type": "code",
      "metadata": {
        "id": "Bgp2Z0CqIFfA",
        "colab_type": "code",
        "outputId": "be5fc623-fa5d-49ed-c719-088963ffc228",
        "colab": {
          "base_uri": "https://localhost:8080/",
          "height": 34
        }
      },
      "source": [
        "print(test_loss, test_accuracy)"
      ],
      "execution_count": 0,
      "outputs": [
        {
          "output_type": "stream",
          "text": [
            "0.06780018774718047 0.978\n"
          ],
          "name": "stdout"
        }
      ]
    }
  ]
}